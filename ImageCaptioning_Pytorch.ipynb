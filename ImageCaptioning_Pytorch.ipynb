{
 "cells": [
  {
   "cell_type": "code",
   "execution_count": 1,
   "id": "7a2eb1c4-867c-4716-84c6-ad7365d50d5d",
   "metadata": {},
   "outputs": [
    {
     "name": "stdout",
     "output_type": "stream",
     "text": [
      "The autoreload extension is already loaded. To reload it, use:\n",
      "  %reload_ext autoreload\n"
     ]
    }
   ],
   "source": [
    "%load_ext autoreload\n",
    "%autoreload 2"
   ]
  },
  {
   "cell_type": "code",
   "execution_count": 2,
   "id": "fbb4c6e8-13a0-4013-ae08-b75b55cd20da",
   "metadata": {},
   "outputs": [],
   "source": [
    "import os \n",
    "import json\n",
    "\n",
    "from PIL import Image\n",
    "\n",
    "import numpy as np\n",
    "import pandas as pd\n",
    "import matplotlib.pyplot as plt\n",
    "\n",
    "from utils import *\n",
    "from data import ImageCaptionDataset, generate_batch\n",
    "from model import ImageCaptionModel\n",
    "from torch.utils.data import DataLoader\n",
    "import torch\n"
   ]
  },
  {
   "cell_type": "code",
   "execution_count": 3,
   "id": "f322617a-9d51-4dec-a7ec-c3330d7aab59",
   "metadata": {},
   "outputs": [],
   "source": [
    "data_path = 'data'\n",
    "imgs_path = \"data/img\""
   ]
  },
  {
   "cell_type": "code",
   "execution_count": 4,
   "id": "9dbed6ab-413d-4bbb-a46c-6fa24026f522",
   "metadata": {},
   "outputs": [
    {
     "data": {
      "text/plain": [
       "{'val': 'captions_val2014.json', 'train': 'captions_train2014.json'}"
      ]
     },
     "execution_count": 4,
     "metadata": {},
     "output_type": "execute_result"
    }
   ],
   "source": [
    "captions_json = {f.replace('captions_','').replace('2014.json',''):f for f in os.listdir(data_path) if f.startswith('caption')}\n",
    "captions_json"
   ]
  },
  {
   "cell_type": "code",
   "execution_count": 5,
   "id": "e9c4e2cc",
   "metadata": {},
   "outputs": [],
   "source": [
    "df_train, df_val = load_images(captions_json, imgs_path)"
   ]
  },
  {
   "cell_type": "code",
   "execution_count": 6,
   "id": "76e35793-47f5-4ed6-9df6-998f2a78063b",
   "metadata": {},
   "outputs": [],
   "source": [
    "#plot_images(df_train, os.path.join(imgs_path,'train'))\n",
    "#plot_images(df_val, os.path.join(imgs_path,'val'))"
   ]
  },
  {
   "cell_type": "code",
   "execution_count": 7,
   "id": "c06a1eaf",
   "metadata": {},
   "outputs": [
    {
     "data": {
      "text/plain": [
       "Compose(\n",
       "    Resize(size=256, interpolation=bilinear, max_size=None, antialias=warn)\n",
       "    RandomCrop(size=(224, 224), padding=None)\n",
       "    RandomHorizontalFlip(p=0.5)\n",
       "    ToTensor()\n",
       "    Normalize(mean=[0.45, 0.45, 0.45], std=[0.225, 0.225, 0.225])\n",
       ")"
      ]
     },
     "execution_count": 7,
     "metadata": {},
     "output_type": "execute_result"
    }
   ],
   "source": [
    "transform = get_transform()\n",
    "transform"
   ]
  },
  {
   "cell_type": "code",
   "execution_count": 8,
   "id": "a176bfcf",
   "metadata": {},
   "outputs": [],
   "source": [
    "dataset = ImageCaptionDataset(transform=transform, \n",
    "                              df=df_train, \n",
    "                              img_path= os.path.join(imgs_path, 'train')\n",
    "                              )"
   ]
  },
  {
   "cell_type": "code",
   "execution_count": 9,
   "id": "78b5b9fd",
   "metadata": {},
   "outputs": [
    {
     "data": {
      "text/plain": [
       "1"
      ]
     },
     "execution_count": 9,
     "metadata": {},
     "output_type": "execute_result"
    }
   ],
   "source": [
    "dataset.char_to_id('<pad>')"
   ]
  },
  {
   "cell_type": "code",
   "execution_count": 10,
   "id": "484c9f5c",
   "metadata": {},
   "outputs": [],
   "source": [
    "BATCH_SIZE = 4"
   ]
  },
  {
   "cell_type": "code",
   "execution_count": 11,
   "id": "3f0c1301",
   "metadata": {},
   "outputs": [],
   "source": [
    "train_loader = DataLoader(dataset, batch_size = BATCH_SIZE, shuffle=True, collate_fn=generate_batch)"
   ]
  },
  {
   "cell_type": "code",
   "execution_count": 12,
   "id": "baaaea68",
   "metadata": {},
   "outputs": [
    {
     "data": {
      "text/plain": [
       "7967"
      ]
     },
     "execution_count": 12,
     "metadata": {},
     "output_type": "execute_result"
    }
   ],
   "source": [
    "vocab_size = len(train_loader.dataset.vocab)\n",
    "vocab_size"
   ]
  },
  {
   "cell_type": "code",
   "execution_count": null,
   "id": "c189920c",
   "metadata": {},
   "outputs": [],
   "source": []
  }
 ],
 "metadata": {
  "kernelspec": {
   "display_name": "Python 3 (ipykernel)",
   "language": "python",
   "name": "python3"
  },
  "language_info": {
   "codemirror_mode": {
    "name": "ipython",
    "version": 3
   },
   "file_extension": ".py",
   "mimetype": "text/x-python",
   "name": "python",
   "nbconvert_exporter": "python",
   "pygments_lexer": "ipython3",
   "version": "3.9.13"
  }
 },
 "nbformat": 4,
 "nbformat_minor": 5
}
